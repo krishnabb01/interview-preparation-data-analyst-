{
 "cells": [
  {
   "cell_type": "markdown",
   "metadata": {},
   "source": [
    "**#Excel**"
   ]
  },
  {
   "cell_type": "markdown",
   "metadata": {},
   "source": [
    "*BASIC FORMULAS AND FUNCTIONS*"
   ]
  },
  {
   "cell_type": "markdown",
   "metadata": {},
   "source": [
    "1. SUM\n",
    "\n",
    "Q. how do you use the SUM function in excel, and what does it do?\n",
    "\n",
    "--> the sum function is used for calculate the selective range of cells.\n",
    "For ex, = SUM(A1:A5)\n",
    "\n",
    "______________________________________________________________"
   ]
  },
  {
   "cell_type": "markdown",
   "metadata": {},
   "source": [
    "2. AVERAGE\n",
    "\n",
    "Q. Explain how to calculate the average of a range of cells in Excel. \n",
    "\n",
    "--> AVERAGE function is calculate the mean of selective range of cells\n",
    "For ex, = AVERAGE(B1:B10)\n",
    "    will return the average value of the numbers in cells B1 through B10.\n",
    "______________________________________________________________"
   ]
  },
  {
   "cell_type": "markdown",
   "metadata": {},
   "source": [
    "3. COUNT \n",
    "\n",
    "Q. What is the COUNT function, and how is it different from COUNTA? \n",
    "\n",
    "--> COUNT function counts the number of cells that contain numerical values in range.\n",
    "For ex, = COUNT(C1:C10)\n",
    "    will count the number of cells with numbers in the rang C1 to C10.\n",
    "\n",
    "COUNTA function counts all non-empty cells, including those with text and other data types.\n",
    "For ex, = COUNTA(C1:C10)\n",
    "______________________________________________________________"
   ]
  },
  {
   "cell_type": "markdown",
   "metadata": {},
   "source": [
    "4. MIN\n",
    "\n",
    "Q: How can you find the minimum value in a range of cells?\n",
    "\n",
    "--> the MIN fuction returns the smallest function in range of cells \n",
    "For ex, = MIN(D1:D10)\n",
    "______________________________________________________________"
   ]
  },
  {
   "cell_type": "markdown",
   "metadata": {},
   "source": [
    "5. MAX\n",
    "\n",
    "Q: Describe how to use the MAX function to find the highest value in a range.\n",
    "\n",
    "--> The MAX function returns the largest number in a range of cells.\n",
    "For ex, = MAX(E1:E10)\n",
    "______________________________________________________________"
   ]
  },
  {
   "cell_type": "markdown",
   "metadata": {},
   "source": [
    "*#ADVANCED FORMULAS*"
   ]
  },
  {
   "cell_type": "markdown",
   "metadata": {},
   "source": [
    "6. CONCATENATE\n",
    "\n",
    "Q: How do you use the CONCATENATE function in Excel, and what are some of its applications? \n",
    "\n",
    "--> CONCATENATE function joins two or more text strings into one string. \n",
    "For ex, = CONCATENATE(\"Hello\",\" \",\"world\") will return \"Hello World\".\n",
    "______________________________________________________________"
   ]
  },
  {
   "cell_type": "markdown",
   "metadata": {},
   "source": [
    "7. TEXT Functions\n",
    "\n",
    "Q: What is the purpose of the TEXT function, and can you provide an example?\n",
    "\n",
    "--> The TEXT function converts a value to text in a specific number format. \n",
    "For example, =TEXT(1234.567, \"0.00\") will return \"1234.57\" It’s useful for formatting dates, times, and numbers for display purposes. \n",
    "______________________________________________________________"
   ]
  },
  {
   "cell_type": "markdown",
   "metadata": {},
   "source": [
    "8. DATE Functions\n",
    "\n",
    "Q1: Explain how to use the DATE function to create a date from individual year, month, and day components. \n",
    "\n",
    "--> The DATE function combines individual year, month, and day values into a single date.\n",
    "For example, =DATE(2023, 6, 12) will return the date \"12-Jun-2023\". \n",
    "\n",
    "\n",
    "Q2: What is the difference between TODAY() and NOW() functions? \n",
    "\n",
    "--> The TODAY() function returns the current date, wheres the NOW() function returns the current date and time.\n",
    "For example, if today is June 12, 2023, =TODAY() will return \"12-Jun-2023\", and =NOW() might return \"12-Jun-2023 10:15 AM\".\n",
    "\n",
    "Q3: How do you calculate the number of days between two dates in Excel? \n",
    "--> You can subtract one date from another to find the number of days between them. For example, if cell A1 contains \"01-Jan-2023\" and cell B1 contains \"15-Jan-2023\", =B1-A1 will return 14.  \n",
    "________"
   ]
  },
  {
   "cell_type": "markdown",
   "metadata": {},
   "source": [
    "9. Combining Functions \n",
    "\n",
    "Q1: Can you provide an example of using multiple functions together in a formula?\n",
    "\n",
    "--> Sure, here’s an example: =CONCATENATE(\"The average is \", TEXT(AVERAGE(A1:A10), \"0.00\")) combines the AVERAGE and TEXT functions with CONCATENATE to return a formatted string like \"The average is 23.45\". \n",
    "\n",
    "Q2: How would you use Excel to analyze a dataset with missing values? \n",
    "\n",
    "--> we use the IF and ISBLANK functions to identify missing values. For example, =IF(ISBLANK(A1), \"Missing\", A1) will label missing values in cell A1 as \"Missing\".\n",
    "\n",
    "Q3: What are Pivot Tables, and how are they useful in data analysis? \n",
    "\n",
    "--> Pivot Tables summarize large datasets, allow to aggregate data to view it from differnt perspectives.They are useful for quickly calculating sums, averages, counts, and other statistics for grouped data without writing complex formulas. \n",
    "______"
   ]
  },
  {
   "cell_type": "markdown",
   "metadata": {},
   "source": [
    "**#PYTHON**"
   ]
  },
  {
   "cell_type": "markdown",
   "metadata": {},
   "source": [
    "1. Variables\n",
    "\n",
    "Q1: What is a variable in Python, and how do you declare it? \n",
    "\n",
    "--> A variable is a storage location that holds a value. You declare a variable by assigning it a value with the = operator, e.g., x = 10.\n",
    "\n",
    "Q2: Can you change the data type of a variable in Python after it has been declared? \n",
    "\n",
    "--> Yes, Python is dynamically typed, so you can change the data type of a variable by assigning it a new value of a different type, e.g., x = 10 (integer) followed by x = \"hello\" (string).\n",
    "________"
   ]
  },
  {
   "cell_type": "markdown",
   "metadata": {},
   "source": [
    "2. Data Types"
   ]
  },
  {
   "cell_type": "markdown",
   "metadata": {},
   "source": [
    "Q1: List and briefly describe the basic data types in Python.\n",
    "\n",
    "--> \n",
    "- int: Integer, e.g., x = 10\n",
    "\n",
    "- float: Floating-point number, e.g., y = 10.5\n",
    "\n",
    "- str: String, e.g., name = \"Alice\"\n",
    "\n",
    "- bool: Boolean, e.g., is_valid = True\n",
    "\n",
    "- list: List, e.g., numbers = [1, 2, 3]\n",
    "\n",
    "- tuple: Tuple, e.g., coordinates = (10.0, 20.0)\n",
    "    \n",
    "- dict: Dictionary, e.g., person = {\"name\": \"Alice\", \"age\": 25} \n",
    "\n",
    "\n",
    "\n",
    "Q2: How do you check the data type of a variable in Python? \n",
    "\n",
    "--> You can use the type() function. For example, type(x) will return the data type of the variable x. \n",
    "_______"
   ]
  },
  {
   "cell_type": "markdown",
   "metadata": {},
   "source": [
    "3. Operators\n",
    "\n",
    "Q1: Explain the difference between == and = in Python. \n",
    "\n",
    "--> = is the assignment operator used to assign values to variables, e.g., x = 10. == is the equality operator used to compare two values, e.g., x == 10 checks if x is equal to 10.\n",
    "\n",
    "Q2: What are the logical operators in Python and how are they used? \n",
    "\n",
    "--> Logical operators in Python include and, or, and not. They are used to combine conditional statements: \n",
    "- and: Returns True if both statements are true, e.g., x > 5 and x < 10 \n",
    "\n",
    "- or: Returns True if at least one statement is true, e.g., x > 5 or x < 10 \n",
    "\n",
    "- not: Inverts the boolean value, e.g., not(x > 5)\n",
    "_______"
   ]
  },
  {
   "cell_type": "markdown",
   "metadata": {},
   "source": [
    "4. Control Flow\n",
    "\n",
    "If Satements:\n",
    "\n",
    "Q1.How do you write a basic if statement in Python? "
   ]
  },
  {
   "cell_type": "code",
   "execution_count": 2,
   "metadata": {},
   "outputs": [
    {
     "name": "stdout",
     "output_type": "stream",
     "text": [
      "x is greater than 5\n"
     ]
    }
   ],
   "source": [
    "x = 10\n",
    "if x > 5:\n",
    "    print(\"x is greater than 5\")"
   ]
  },
  {
   "cell_type": "markdown",
   "metadata": {},
   "source": [
    "Q2.What is the syntax for an if-elif-else statement in Python?"
   ]
  },
  {
   "cell_type": "code",
   "execution_count": 4,
   "metadata": {},
   "outputs": [
    {
     "name": "stdout",
     "output_type": "stream",
     "text": [
      "x is greater than 10\n"
     ]
    }
   ],
   "source": [
    "x = 10\n",
    "if x > 5:\n",
    "    print(\"x is greater than 10\")\n",
    "elif x == 10:\n",
    "    print(\"x is equal to 10\")\n",
    "else:\n",
    "    print(\"x is less than 10\")\n"
   ]
  },
  {
   "cell_type": "markdown",
   "metadata": {},
   "source": [
    "For loops:\n",
    "\n",
    "Q1.How do you write a basic for loop to iterate over a list in Python?"
   ]
  },
  {
   "cell_type": "code",
   "execution_count": 5,
   "metadata": {},
   "outputs": [
    {
     "name": "stdout",
     "output_type": "stream",
     "text": [
      "10\n",
      "20\n",
      "30\n",
      "40\n",
      "50\n"
     ]
    }
   ],
   "source": [
    "numbers = [10,20,30,40,50]\n",
    "for number in numbers:\n",
    "    print(number)"
   ]
  },
  {
   "cell_type": "markdown",
   "metadata": {},
   "source": [
    "Q2.How can you use a for loop to iterate over a dictionary’s keys and values?"
   ]
  },
  {
   "cell_type": "code",
   "execution_count": 9,
   "metadata": {},
   "outputs": [
    {
     "name": "stdout",
     "output_type": "stream",
     "text": [
      "name:krishna\n",
      "age:22\n"
     ]
    }
   ],
   "source": [
    "person = {\"name\" : \"krishna\",\"age\" : 22}\n",
    "for key,value in person.items():\n",
    "    print(F\"{key}:{value}\")"
   ]
  },
  {
   "cell_type": "markdown",
   "metadata": {},
   "source": [
    "While Loops:\n",
    "\n",
    "Q1.Explain how to write a while loop that prints numbers from 1 to 5."
   ]
  },
  {
   "cell_type": "code",
   "execution_count": 12,
   "metadata": {},
   "outputs": [
    {
     "name": "stdout",
     "output_type": "stream",
     "text": [
      "1\n",
      "2\n",
      "3\n",
      "4\n",
      "5\n"
     ]
    }
   ],
   "source": [
    "i = 1\n",
    "while i <= 5:\n",
    "    print(i)\n",
    "    i+=1"
   ]
  },
  {
   "cell_type": "markdown",
   "metadata": {},
   "source": [
    "Q2.What is an infinite loop, and how can it occur with a while loop?\n",
    "\n",
    "--> An infinite loop occurs when the loop's condition always True and the loop never terminates.\n",
    "For example, 'while True:' creates an infinite loop unless there is a 'break' statement."
   ]
  },
  {
   "cell_type": "markdown",
   "metadata": {},
   "source": [
    "*Additional Questions*\n",
    "\n",
    "Q1.How do you use the range() function in a for loop? Provide an example."
   ]
  },
  {
   "cell_type": "code",
   "execution_count": 15,
   "metadata": {},
   "outputs": [
    {
     "name": "stdout",
     "output_type": "stream",
     "text": [
      "1\n",
      "2\n",
      "3\n",
      "4\n",
      "5\n"
     ]
    }
   ],
   "source": [
    "for i in range(1,6): # to Calculate the 1 to 5 numbers\n",
    "    print (i)"
   ]
  },
  {
   "cell_type": "markdown",
   "metadata": {},
   "source": [
    "Q2.Write a python function using a for loop to calculate the sum of only Two digit elements in a list."
   ]
  },
  {
   "cell_type": "code",
   "execution_count": 35,
   "metadata": {},
   "outputs": [
    {
     "name": "stdout",
     "output_type": "stream",
     "text": [
      "[10, 20, 30, 40, 55, 31, 14]\n",
      "200\n"
     ]
    }
   ],
   "source": [
    "def Two_dig(abc):\n",
    "    k = []\n",
    "    for i in abc:\n",
    "        if i>=10 and i<=99:\n",
    "            k.append(i)\n",
    "    return k\n",
    "\n",
    "def add(nums):\n",
    "    a = 0\n",
    "    for num in nums:\n",
    "        a += num\n",
    "    print(a)\n",
    "\n",
    "nums = Two_dig([10,20,30,40,1,455,365,55,31,5,14,888])\n",
    "print(nums)\n",
    "n = add(nums)"
   ]
  },
  {
   "cell_type": "markdown",
   "metadata": {},
   "source": [
    "Q3.How do you break out of a loop in Python?\n",
    "\n",
    "--> We use the 'break' statement to exit the loop.\n",
    "\n",
    "--> for droping specific value from the loop we use continue Statement. "
   ]
  },
  {
   "cell_type": "code",
   "execution_count": 50,
   "metadata": {},
   "outputs": [
    {
     "name": "stdout",
     "output_type": "stream",
     "text": [
      "1\n",
      "2\n",
      "3\n",
      "4\n",
      "0\n",
      "10\n",
      "20\n",
      "30\n",
      "40\n",
      "60\n",
      "70\n",
      "80\n",
      "90\n",
      "100\n"
     ]
    }
   ],
   "source": [
    "for i in range(1,11):\n",
    "    if i == 5:\n",
    "        break\n",
    "    print(i)\n",
    "\n",
    "for x in range (0,101,10):\n",
    "    if x == 50:\n",
    "        continue\n",
    "    print(x)"
   ]
  },
  {
   "cell_type": "markdown",
   "metadata": {},
   "source": [
    "**#SQL**"
   ]
  },
  {
   "cell_type": "markdown",
   "metadata": {},
   "source": [
    "Basic SQL Queries:\n",
    "\n",
    "1.SELECT:\n",
    "\n",
    "Q1.How do you retrieve all columns from a table named employees?\n",
    "\n",
    "--> You use the SELECT statement: SELECT * FROM employees; "
   ]
  },
  {
   "cell_type": "markdown",
   "metadata": {},
   "source": [
    "Q2.How do you select specific columns, for example, first_name and last_name, from the employees table?\n",
    "\n",
    "--> You can specify the columns in the SELECT statement: SELECT first_name, last_name FROM employees; "
   ]
  },
  {
   "cell_type": "markdown",
   "metadata": {},
   "source": [
    "2. INSERT:\n",
    "\n",
    "Q1. How do you insert a new row into the employees table with id, first_name, and last_name values? \n",
    "\n",
    "--> You use the INSERT INTO statement: INSERT INTO employees (id, first_name, last_name) VALUES (1, 'Krishna', 'Baraskar');"
   ]
  },
  {
   "cell_type": "markdown",
   "metadata": {},
   "source": [
    "Q2.Can you insert multiple rows into the employees table in a single query? Provide an example.\n",
    "\n",
    "--> Yes, you can insert multiple rows: INSERT INTO employees (id, first_name, last_name) VALUES (2, 'Jane', 'Smith'), (3, 'Emily', 'Jones'); "
   ]
  },
  {
   "cell_type": "markdown",
   "metadata": {},
   "source": [
    "3. UPDATE: \n",
    "\n",
    "Q1.How do you update the last_name of an employee with id 1 to 'DoeSmith' in the employees table? \n",
    "\n",
    "--> You use the UPDATE statement: UPDATE employees SET last_name = 'Doe-Smith' WHERE id = 1;"
   ]
  },
  {
   "cell_type": "markdown",
   "metadata": {},
   "source": [
    "Q2.How can you update multiple columns, for instance, changing both first_name and last_name for the employee with id 2? \n",
    "\n",
    "--> You can update multiple columns in a single UPDATE statement: UPDATE employees SET first_name = 'Janet', last_name = 'Johnson' WHERE id = 2; "
   ]
  },
  {
   "cell_type": "markdown",
   "metadata": {},
   "source": [
    "4. DELETE \n",
    "\n",
    "Q1.How do you delete a row from the employees table where the id is 3? \n",
    "\n",
    "--> You use the DELETE statement: DELETE FROM employees WHERE id = 3; "
   ]
  },
  {
   "cell_type": "markdown",
   "metadata": {},
   "source": [
    "Q2.How would you delete all rows from the employees table? \n",
    "\n",
    "--> You can delete all rows using: DELETE FROM employees; (Alternatively, you can use TRUNCATE TABLE employees; for a faster operation, but this doesn't work in all SQL dialects.) "
   ]
  },
  {
   "cell_type": "markdown",
   "metadata": {},
   "source": [
    "Filtering Data:"
   ]
  },
  {
   "cell_type": "markdown",
   "metadata": {},
   "source": [
    "1. WHERE Clause:\n",
    "\n",
    "Q1.How do you select all columns from the employees table where the last_name is 'Smith'? \n",
    "\n",
    "--> You use the WHERE clause: SELECT * FROM employees WHERE last_name = 'Smith'; "
   ]
  },
  {
   "cell_type": "markdown",
   "metadata": {},
   "source": [
    "Q2.Write a query to select first_name and last_name from the employees table for employees whose id is greater than 5.\n",
    "\n",
    "--> SELECT first_name, last_name FROM employees WHERE id > 5; "
   ]
  },
  {
   "cell_type": "markdown",
   "metadata": {},
   "source": [
    "2. Comparison Operators\n",
    "\n",
    "Q1. How do you select rows where the salary is greater than or equal to 50000 from the salaries table? \n",
    "\n",
    "--> SELECT * FROM salaries WHERE salary >= 50000; "
   ]
  },
  {
   "cell_type": "markdown",
   "metadata": {},
   "source": [
    "Q2.Write a query to find rows in the employees table where the age is between 30 and 40. \n",
    "\n",
    "--> SELECT * FROM employees WHERE age BETWEEN 30 AND 40; "
   ]
  },
  {
   "cell_type": "markdown",
   "metadata": {},
   "source": [
    "3. Logical Operators\n",
    "\n",
    "Q1. How do you select all employees from the employees table where first_name is 'John' and last_name is 'Doe'? \n",
    "\n",
    "--> SELECT * FROM employees WHERE first_name = 'John' AND last_name = 'Doe';\n",
    "\n",
    "\n",
    "Q2. Write a query to find employees in the employees table whose first_name is 'Jane' or whose last_name is 'Smith'. \n",
    "\n",
    "--> SELECT * FROM employees WHERE first_name = 'Jane' OR last_name = 'Smith'; \n",
    "\n",
    "\n",
    "Q3. How can you select rows from the employees table where department is 'HR' and salary is greater than 60000? \n",
    "\n",
    "--> SELECT * FROM employees WHERE department = 'HR' AND salary > 60000; \n",
    "\n",
    "\n",
    "Q4. Write a query to select rows from the employees table where department is 'Finance' and age is less than 50 or position is 'Manager'. \n",
    "\n",
    "--> SELECT * FROM employees WHERE (department = 'Finance' AND age < 50) OR position = 'Manager';"
   ]
  },
  {
   "cell_type": "markdown",
   "metadata": {},
   "source": [
    "**#Power BI**\n",
    "\n",
    "Basic Power BI"
   ]
  },
  {
   "cell_type": "markdown",
   "metadata": {},
   "source": [
    "1. Power BI Desktop:\n",
    "\n",
    "Q. What is Power BI Desktop, and how does it differ from Power BI Service?\n",
    "\n",
    "--> Power BI Desktop is a Windows-based application for creating reports and data visualizations. It allows you to connect to data sources, transform data, and create visual reports. Power BI Service is a cloud-based service where you can share and collaborate on reports created in Power BI Desktop. \n",
    "\n",
    "\n",
    "2. Power BI Service \n",
    "\n",
    "Q. How do you publish a report from Power BI Desktop to Power BI Service? \n",
    "\n",
    "--> You can publish a report by clicking the \"Publish\" button in Power BI Desktop, then selecting the destination workspace in Power BI Service where you want to publish the report. \n",
    "\n",
    "\n",
    "3. Power BI Mobile \n",
    "\n",
    "Q. What is Power BI Mobile, and what are its main features? \n",
    "\n",
    "--> Power BI Mobile is an application that allows you to view and interact with Power BI reports and dashboards on mobile devices. Its main features include viewing reports and dashboards, setting data alerts, and sharing insights with colleagues. "
   ]
  },
  {
   "cell_type": "markdown",
   "metadata": {},
   "source": [
    "Connecting to Data Sources:\n",
    "\n",
    "1. Excel \n",
    "\n",
    "Q. How do you import data from an Excel file into Power BI? \n",
    "\n",
    "--> In Power BI Desktop, you can import data from an Excel file by selecting \"Get Data\" -> \"Excel\", then browsing to the file location, selecting the file, and choosing the sheets or tables you want to import. \n",
    "\n",
    "\n",
    "2. SQL Server \n",
    "\n",
    "Q. Describe the process of connecting Power BI to a SQL Server database. \n",
    "\n",
    "--> To connect to a SQL Server database, select \"Get Data\" -> \"SQL Server\", enter the server and database names, and provide the necessary credentials. You can then choose the tables or views to import. \n",
    "\n",
    "\n",
    "3. Web \n",
    "\n",
    "Q. How can you connect Power BI to a web data source? \n",
    "\n",
    "--> You can connect to a web data source by selecting \"Get Data\" -> \"Web\", then entering the URL of the web page or API endpoint. Power BI will attempt to retrieve the data from the specified URL. \n",
    "\n",
    "\n",
    "4. APIs \n",
    "\n",
    "Q. Explain how to connect Power BI to a REST API. \n",
    "\n",
    "--> To connect to a REST API, select \"Get Data\" -> \"Web\", then enter the API endpoint URL. If the API requires authentication, you may need to provide an API key or use other authentication methods supported by Power BI. \n",
    "\n",
    "\n",
    "5. OData Feeds \n",
    "\n",
    "Q. What is an OData feed, and how do you connect to one in Power BI? \n",
    "\n",
    "--> An OData feed is a standardized protocol for accessing data over the web. To connect to an OData feed, select \"Get Data\" -> \"OData Feed\", then enter the URL of the OData feed. Power BI will connect to the feed and allow you to select the data to import. "
   ]
  },
  {
   "cell_type": "markdown",
   "metadata": {},
   "source": [
    "*Additional Questions*\n",
    "\n",
    "1. Power BI Desktop \n",
    "\n",
    "Q. What are some key features of Power BI Desktop? \n",
    "\n",
    "--> Key features include data transformation and cleaning using Power Query, creating visualizations, building interactive reports, and integrating with various data sources. \n",
    "\n",
    "\n",
    "2. Power BI Service \n",
    "\n",
    "Q. What are dashboards in Power BI Service, and how do they differ from reports? \n",
    "\n",
    "--> Dashboards in Power BI Service are single-page, often interactive, summaries of data that provide a high-level view of key metrics. Reports are more detailed and can consist of multiple pages with various visualizations. \n",
    "\n",
    "\n",
    "3. Power BI Mobile\n",
    "\n",
    "Q. How do you ensure that reports are mobile-friendly in Power BI? \n",
    "\n",
    "--> To ensure reports are mobile-friendly, use the \"View\" -> \"Mobile Layout\" feature in Power BI Desktop to customize the report layout for mobile devices. Ensure visualizations are appropriately resized and arranged for smaller screens. \n",
    "\n",
    "\n",
    "4. Data Transformation \n",
    "\n",
    "Q. What is Power Query, and how is it used in Power BI? \n",
    "\n",
    "--> Power Query is a data connection technology that enables you to discover, connect, combine, and refine data across a wide variety of sources. In Power BI, it is used for data transformation and cleaning before visualizing the data. \n",
    "\n",
    "\n",
    "5. Data Visualization \n",
    "\n",
    "Q. What types of visualizations are available in Power BI, and how do you choose the right one? \n",
    "\n",
    "--> Power BI offers various visualizations such as bar charts, line charts, pie charts, scatter plots, maps, and more. The choice of visualization depends on the type of data and the insights you want to convey. For example, use line charts for trends over time and bar charts \n",
    "for comparing categories. \n",
    "\n",
    "\n",
    "6. Sharing and Collaboration\n",
    "\n",
    "Q. How can you share reports and dashboards with others in Power BI? \n",
    "\n",
    "--> In Power BI Service, you can share reports and dashboards by using the \"Share\" feature. You can send an email invitation with a link to the report or dashboard, or embed it in a SharePoint site or other web portal. "
   ]
  },
  {
   "cell_type": "markdown",
   "metadata": {},
   "source": []
  }
 ],
 "metadata": {
  "kernelspec": {
   "display_name": "base",
   "language": "python",
   "name": "python3"
  },
  "language_info": {
   "codemirror_mode": {
    "name": "ipython",
    "version": 3
   },
   "file_extension": ".py",
   "mimetype": "text/x-python",
   "name": "python",
   "nbconvert_exporter": "python",
   "pygments_lexer": "ipython3",
   "version": "3.11.5"
  }
 },
 "nbformat": 4,
 "nbformat_minor": 2
}
