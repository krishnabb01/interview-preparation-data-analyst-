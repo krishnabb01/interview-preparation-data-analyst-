{
 "cells": [
  {
   "cell_type": "markdown",
   "metadata": {},
   "source": [
    "**#Excel**"
   ]
  },
  {
   "cell_type": "markdown",
   "metadata": {},
   "source": [
    "Excel Logical and Lookup Functions \n",
    "\n",
    "1. IF Function \n",
    "\n",
    "• Q1: How does the IF function work in Excel? \n",
    "\n",
    "--> The IF function performs a logical test and returns one value if the condition is true and another value if it's false. For example, =IF(A1 > 10, \"Yes\", \"No\") returns \"Yes\" if the value in A1 is greater than 10; otherwise, it returns \"No\". \n",
    "\n",
    "• Q2: Can you nest multiple IF functions? Give an example. \n",
    "\n",
    "--> Yes, you can nest multiple IF functions to evaluate multiple conditions. For example, =IF(A1 > 10, \"Greater than 10\", IF(A1 > 5,\"Between 6 and 10\", \"5 or less\")) evaluates A1 for three different conditions. \n",
    "\n",
    "• Q3: How can you use the IF function to handle errors? \n",
    "\n",
    "--> You can use the IF function with the ISERROR function to handle errors. For example, =IF(ISERROR(A1/B1), \"Error\", A1/B1) returns \"Error\" if the division results in an error, otherwise it returns the result of the division. "
   ]
  },
  {
   "cell_type": "markdown",
   "metadata": {},
   "source": [
    "2. AND Function \n",
    "\n",
    "• Q4: What does the AND function do in Excel? \n",
    "--> The AND function checks if all conditions provided are true and returns TRUE only if all conditions are true; otherwise, it returns FALSE. For example, =AND(A1 > 0, B1 < 5) returns TRUE if both conditions are met. \n",
    "\n",
    "• Q5: How can you use the AND function inside an IF statement? \n",
    "\n",
    "--> The AND function can be used within an IF statement to evaluate multiple conditions. For example, =IF(AND(A1 > 0, B1 < 5), \"Both conditions met\", \"One or both conditions not met\"). "
   ]
  },
  {
   "cell_type": "markdown",
   "metadata": {},
   "source": [
    "3. OR Function \n",
    "\n",
    "• Q6: What is the purpose of the OR function in Excel? \n",
    "\n",
    "--> The OR function checks if any of the conditions provided are true and returns TRUE if at least one condition is true; otherwise, it returns FALSE. For example, =OR(A1 > 0, B1 < 5) returns TRUE if either condition is met. \n",
    "\n",
    "• Q7: Can you provide an example of using the OR function with the IF function? \n",
    "\n",
    "--> Yes, =IF(OR(A1 > 0, B1 < 5), \"At least one condition met\", \"No conditions met\") uses the OR function within an IF statement to return different results based on the conditions. "
   ]
  },
  {
   "cell_type": "markdown",
   "metadata": {},
   "source": [
    "4. NOT Function\n",
    "\n",
    "• Q8: Explain how the NOT function works in Excel. \n",
    "\n",
    "--> The NOT function reverses the logical value of its argument. If the argument is TRUE, it returns FALSE, and if the argument is FALSE, it returns TRUE. For example, =NOT(A1 > 10) returns TRUE if A1 is not greater than 10. \n",
    "\n",
    "• Q9: How can you use the NOT function with the IF function? \n",
    "\n",
    "--> The NOT function can be used with the IF function to test for the opposite of a condition. For example, =IF(NOT(A1 > 10), \"10 or less\", \"Greater than 10\"). "
   ]
  },
  {
   "cell_type": "markdown",
   "metadata": {},
   "source": [
    "5. Lookup Functions \n",
    "\n",
    "• VLOOKUP \n",
    "\n",
    "o Q10: How does the VLOOKUP function work in Excel? \n",
    "\n",
    "--> VLOOKUP searches for a value in the first column of a range and returns a value in the same row from another column. For example, =VLOOKUP(\"Apple\", A1:C10, 3, FALSE) searches for \"Apple\" in the first column and returns the value from the third column of the same row. \n",
    "\n",
    "o Q11: What are the limitations of VLOOKUP? \n",
    "\n",
    "--> Limitations of VLOOKUP include: \n",
    "▪ It can only search for values in the first column. \n",
    "▪ It requires the lookup column to be on the left. \n",
    "▪ It may return incorrect results if the data is not sorted when using an approximate match. \n",
    "▪ It can be slow with large datasets. \n",
    "\n",
    "• HLOOKUP \n",
    "\n",
    "o Q12: What is the HLOOKUP function, and how is it different from VLOOKUP? \n",
    "\n",
    "--> HLOOKUP searches for a value in the first row of a range and returns a value in the same column from another row. It differs from VLOOKUP in that it performs horizontal lookups. For example, =HLOOKUP(\"Jan\", A1:F5, 3, FALSE) searches.\n",
    "\n",
    "• XLOOKUP Function\n",
    "\n",
    "• Q17: Explain how the XLOOKUP function works. \n",
    "\n",
    "--> XLOOKUP searches a range or array for a match and returns the corresponding value from another range or array. For example, =XLOOKUP(\"Apple\", A1:A10, B1:B10) searches for \"Apple\" in the range A1:A10 and returns the corresponding value from the range B1:B10. It can search both vertically and horizontally and provides more flexibility than VLOOKUP and HLOOKUP. \n",
    "\n",
    "• Q18: What are the advantages of using XLOOKUP over VLOOKUP or HLOOKUP? \n",
    "\n",
    "--> Advantages of XLOOKUP include: \n",
    "▪ It can search in any direction (both horizontally and vertically). \n",
    "▪ It doesn't require the lookup column to be on the left. \n",
    "▪ It can return multiple results. \n",
    "▪ It provides an exact match by default and handles errors more gracefully. "
   ]
  },
  {
   "cell_type": "markdown",
   "metadata": {},
   "source": [
    "6. INDEX Function \n",
    "\n",
    "• Q13: Describe the INDEX function and its uses in Excel. \n",
    "\n",
    "--> The INDEX function returns the value of a cell at a specified row and column within a range. For example, =INDEX(A1:C10, 3, 2) returns the value in the third row and second column of the range A1:C10. It's useful for retrieving specific data points from large datasets. \n",
    "\n",
    "• Q14: Can you provide an example where INDEX is used with MATCH?  \n",
    "\n",
    "--> Yes, =INDEX(A1:C10, MATCH(\"ProductX\", A1:A10, 0), MATCH(\"March\", A1:C1, 0)) finds the intersection of \"ProductX\" in the rows and \"March\" in the columns within the range A1:C10. "
   ]
  },
  {
   "cell_type": "markdown",
   "metadata": {},
   "source": [
    "7. MATCH Function \n",
    "\n",
    "• Q15: What does the MATCH function do in Excel? \n",
    "\n",
    "--> The MATCH function searches for a specified value in a range and returns the relative position of that value. For example, =MATCH(\"Orange\", A1:A10, 0) returns the position of \"Orange\" in the range A1:A10. \n",
    "\n",
    "• Q16: How can MATCH be used to improve VLOOKUP?  \n",
    "\n",
    "--> MATCH can be used to dynamically find the column index number in VLOOKUP. For example, =VLOOKUP(\"Apple\", A1:D10, MATCH(\"Price\", A1:D1, 0), FALSE) uses MATCH to find the column number of \"Price\" within the range. "
   ]
  },
  {
   "cell_type": "markdown",
   "metadata": {},
   "source": [
    "*Additional Questions and Scenarios*\n",
    "\n",
    "• Q19: How would you use logical functions to create complex conditional statements? \n",
    "\n",
    "--> Logical functions like IF, AND, OR, and NOT can be combined to create complex conditional statements. For example, =IF(AND(A1 > 10, OR(B1 \n",
    "< 5, C1 = \"Yes\")), \"Condition met\", \"Condition not met\") checks if A1 is greater than 10 and either B1 is less than 5 or C1 is \"Yes\". \n",
    "\n",
    "• Q20: Can you provide an example of using lookup functions to pull data from another sheet? \n",
    "\n",
    "--> Yes, to pull data from another sheet using VLOOKUP, you can use a than using VLOOKUP. formula like =VLOOKUP(\"Apple\", Sheet2!A1:C10, 3, FALSE), which searches for \"Apple\" in the first column of the range A1:C10 on Sheet2 and returns the corresponding value from the third column.\n",
    "\n",
    "• Q21: Describe a scenario where combining INDEX and MATCH is more beneficial \n",
    "\n",
    "--> Combining INDEX and MATCH is beneficial when you need a lookup that doesn't require the lookup value to be in the first column. For example, if you have a dataset where the lookup value is in the second column and you need to return a value from the first column, =INDEX(A1:A10, MATCH(\"ProductX\", B1:B10, 0)) would be more appropriate than VLOOKUP. \n",
    "\n",
    "• Q22: How do you handle errors in lookup functions? \n",
    "\n",
    "--> Errors in lookup functions can be handled using the IFERROR or IFNA functions. For example, =IFERROR(VLOOKUP(\"Apple\", A1:B10, 2, FALSE), \"Not Found\") returns \"Not Found\" if VLOOKUP does not find \"Apple\". "
   ]
  },
  {
   "cell_type": "markdown",
   "metadata": {},
   "source": [
    "**#Python: Data Structures**"
   ]
  },
  {
   "cell_type": "markdown",
   "metadata": {},
   "source": [
    "1. Lists \n",
    "\n",
    "Q: What is a list in Python and how do you create one? \n",
    "\n",
    "--> A list in Python is an ordered, mutable collection of items. Lists are created using square brackets. For example, 'my_list = [1, 2, 3, \"a\", \"b\", \"c\"]'. \n",
    "\n",
    "Q: How can you add an item to a list in Python? \n",
    "\n",
    "--> You can add an item to a list using the 'append' method. For example, 'my_list.append(4)' adds the number 4 to the end of 'my_list'. \n",
    "\n",
    "Q: How do you remove an item from a list by value? \n",
    "\n",
    "--> You can remove an item from a list by value using the 'remove' method. For example, 'my_list.remove(\"a\")' removes the first occurrence of \"a\" from 'my_list'. \n",
    "\n",
    "2. Tuples \n",
    "\n",
    "Q: What is a tuple in Python and how does it differ from a list?\n",
    "\n",
    "--> A tuple is an ordered, immutable collection of items. Tuples are created using parentheses. For example, 'my_tuple = (1, 2, 3, \"a\", \"b\", \"c\")'. Unlike lists, tuples cannot be modified after creation.  \n",
    "\n",
    "Q: How can you access elements in a tuple? \n",
    "\n",
    "--> Elements in a tuple can be accessed using indexing, similar to lists. For example, 'my_tuple[0]' returns the first element of 'my_tuple'. \n",
    "\n",
    "Q: How do you unpack a tuple into individual variables? \n",
    "\n",
    "--> You can unpack a tuple into individual variables by assigning the tuple to a comma-separated list of variables. For example, 'a, b, c = (1, 2, 3)' assigns 1 to 'a', 2 to 'b', and 3 to 'c'.\n",
    "\n",
    "3. Sets \n",
    "\n",
    "Q: What is a set in Python and how do you create one? \n",
    "\n",
    "--> A set is an unordered collection of unique items. Sets are created using curly braces or the 'set' function. For example, 'my_set = {1, 2, 3}' or 'my_set = set([1, 2, 3])'. \n",
    "\n",
    "Q: How can you add an item to a set in Python? \n",
    "\n",
    "--> You can add an item to a set using the 'add' method. For example, 'my_set.add(4)' adds the number 4 to 'my_set'. \n",
    "\n",
    "Q: How do you remove an item from a set?  \n",
    "\n",
    "--> You can remove an item from a set using the 'remove' or 'discard' method. For example, 'my_set.remove(2)' removes the number 2 from 'my_set'. The 'discard' method does not raise an error if the item is not found. \n",
    "\n",
    "4. Dictionaries \n",
    "\n",
    "Q: What is a dictionary in Python and how do you create one? \n",
    "\n",
    "--> A dictionary is an unordered collection of key-value pairs. Dictionaries are created using curly braces with a colon separating keys and values. For example, 'my_dict = {\"a\": 1, \"b\": 2, \"c\": 3}'.\n",
    "\n",
    "Q: How can you add or update an item in a dictionary? \n",
    "\n",
    "--> You can add or update an item in a dictionary by assigning a value to a key. For example, 'my_dict[\"d\"] = 4' adds the key \"d\" with the value 4, or updates the value if \"d\" already exists. \n",
    "\n",
    "Q: How do you remove an item from a dictionary? \n",
    "\n",
    "--> You can remove an item from a dictionary using the 'del' statement or the 'pop' method. For \n",
    "example, 'del my_dict[\"b\"]' or 'my_dict.pop(\"b\")' removes the key \"b\" and its associated value. "
   ]
  },
  {
   "cell_type": "markdown",
   "metadata": {},
   "source": [
    "Q: How can you iterate over the keys and values in a dictionary?\n",
    "\n",
    "--> You can iterate over the keys and values in a dictionary using a for loop. For example: \n",
    "\n",
    "```python \n",
    "for key, value in my_dict.items(): \n",
    "    print(key, value) \n",
    "``` "
   ]
  },
  {
   "cell_type": "markdown",
   "metadata": {},
   "source": [
    "5. List Comprehensions \n",
    "\n",
    "1.Basic Comprehensions \n",
    "\n",
    "Q: What is a list comprehension in Python and how do you write one? \n",
    "\n",
    "--> A list comprehension is a concise way to create lists. It consists of brackets containing an expression followed by a for clause. For example, `[x * 2 for x in range(10)]` creates a list of the first 10 even numbers. \n",
    "\n",
    "Q: How can you include a condition in a list comprehension? \n",
    "\n",
    "--> You can include a condition in a list comprehension by adding an if clause at the end. For example, `[x for x in range(10) if x % 2 == 0]` creates a list of even numbers from 0 to 9. \n",
    "\n",
    "2.Nested Comprehensions \n",
    "\n",
    "Q: What is a nested list comprehension in Python and how do you write one? \n",
    "\n",
    "--> A nested list comprehension involves two or more for clauses. For example, `[[x * y for y in range(5)] for x in range(5)]` creates a 5x5 multiplication table. \n",
    "\n",
    "Q: Can you give an example of a nested list comprehension with a condition? \n",
    "\n",
    "--> Yes, `[[x * y for y in range(5) if y % 2 == 0] for x in range(5) if x % 2 == 0]` creates a 3x3 table for even numbers only. "
   ]
  },
  {
   "cell_type": "markdown",
   "metadata": {},
   "source": [
    "6. Additional Questions and Scenarios \n",
    "\n",
    "Q: How do you convert a list of tuples into a dictionary? \n",
    "\n",
    "--> You can convert a list of tuples into a dictionary using the `dict` function. For example, `dict([(\"a\", 1), (\"b\", 2), (\"c\", 3)])` creates the dictionary `{\"a\": 1, \"b\": 2, \"c\": 3}`. \n",
    "\n",
    "Q: How do you remove duplicates from a list? \n",
    "\n",
    "--> You can remove duplicates from a list by converting it to a set and then back to a list. For example, `list(set(my_list))` removes duplicates from `my_list`. \n",
    "\n",
    "Q: Can you give an example of using a dictionary comprehension? \n",
    "\n",
    "--> Yes, `{x: x**2 for x in range(5)}` creates a dictionary where the keys are numbers from 0 to 4 and the values are their squares. \n",
    "\n",
    "Q: How can you create a list of dictionaries from two lists, one for keys and one for values? \n",
    "\n",
    "--> You can create a list of dictionaries using a list comprehension and the `zip` function. For example, `[{\"key\": k, \"value\": v} for k, v in zip(keys, values)]` where `keys` and `values` are lists. "
   ]
  },
  {
   "cell_type": "markdown",
   "metadata": {},
   "source": [
    "### *ADVANCE QUESTION AND ANS ASKED IN GOOGLE/AMAZON/MICROSOFT*"
   ]
  },
  {
   "cell_type": "markdown",
   "metadata": {},
   "source": [
    "Q1: What is a list in Python and how do you create one? \n",
    "\n",
    "--> A list in Python is an ordered, mutable collection of items. Lists are created using square brackets. For example, "
   ]
  },
  {
   "cell_type": "code",
   "execution_count": 3,
   "metadata": {},
   "outputs": [],
   "source": [
    "my_list = [1, 2, 3, \"a\", \"b\", \"c\"]"
   ]
  },
  {
   "cell_type": "markdown",
   "metadata": {},
   "source": [
    "Q2: How would you implement a stack using a list in Python? Explain the operations. \n",
    "\n",
    "--> A stack can be implemented using a list with 'append' for push operations and 'pop' for pop operations. For example: "
   ]
  },
  {
   "cell_type": "code",
   "execution_count": 4,
   "metadata": {},
   "outputs": [
    {
     "data": {
      "text/plain": [
       "2"
      ]
     },
     "execution_count": 4,
     "metadata": {},
     "output_type": "execute_result"
    }
   ],
   "source": [
    "stack = [] \n",
    "stack.append(1)  # Push \n",
    "stack.append(2)  # Push \n",
    "stack.pop()"
   ]
  },
  {
   "cell_type": "markdown",
   "metadata": {},
   "source": [
    "Q3: How can you efficiently remove multiple items from a list while iterating over it? \n",
    "\n",
    "--> It’s efficient to create a new list with the items you want to keep using a list comprehension or filter. For example: "
   ]
  },
  {
   "cell_type": "code",
   "execution_count": 6,
   "metadata": {},
   "outputs": [
    {
     "name": "stdout",
     "output_type": "stream",
     "text": [
      "[2, 4]\n"
     ]
    }
   ],
   "source": [
    "original_list = [1, 2, 3, 4, 5] \n",
    "filtered_list = [item for item in original_list if item % 2 == 0]  # Keep even numbers \n",
    "print(filtered_list)"
   ]
  },
  {
   "cell_type": "markdown",
   "metadata": {},
   "source": [
    "Tuples \n",
    "\n",
    "Q4: What is a tuple in Python and how does it differ from a list? \n",
    "\n",
    "--> A tuple is an ordered, immutable collection of items. Tuples are created using parentheses. For example, `my_tuple = (1, 2, 3, \"a\", \"b\", \"c\")`. Unlike lists, tuples cannot be modified after creation. \n",
    "\n",
    "Q5: Explain how to use a tuple as a key in a dictionary.\n",
    "\n",
    "--> Tuples are hashable and can be used as dictionary keys because they are immutable. For example: "
   ]
  },
  {
   "cell_type": "code",
   "execution_count": 1,
   "metadata": {},
   "outputs": [],
   "source": [
    "my_dict = {} \n",
    "my_tuple = (1, 2, 3) \n",
    "my_dict[my_tuple] = \"value\" "
   ]
  },
  {
   "cell_type": "markdown",
   "metadata": {},
   "source": [
    "Q6: Describe a scenario where using a tuple is more beneficial than a list. \n",
    "\n",
    "--> Tuples are beneficial in scenarios where immutability is required to ensure data integrity. For example, using tuples for storing fixed configuration settings or as keys in dictionaries ensures the data cannot be altered."
   ]
  },
  {
   "cell_type": "markdown",
   "metadata": {},
   "source": [
    "Q7: What is a set in Python and how do you create one?\n",
    "\n",
    "--> A set is an unordered collection of unique items. Sets are created using curly braces or the `set` function. For example, `my_set = {1, 2, 3}` or `my_set = set([1, 2, 3])`.\n",
    "\n",
    "Q8: How can you find the symmetric difference between two sets? \n",
    "\n",
    "--> The symmetric difference can be found using the `^` operator or the `symmetric_difference` method. For example: \n",
    "\n"
   ]
  },
  {
   "cell_type": "code",
   "execution_count": 3,
   "metadata": {},
   "outputs": [
    {
     "data": {
      "text/plain": [
       "{1, 4}"
      ]
     },
     "execution_count": 3,
     "metadata": {},
     "output_type": "execute_result"
    }
   ],
   "source": [
    "set1 = {1, 2, 3} \n",
    "set2 = {2, 3, 4} \n",
    "sym_diff = set1 ^ set2  # {1, 4} \n",
    "sym_diff = set1.symmetric_difference(set2)  # {1, 4} \n",
    "sym_diff"
   ]
  },
  {
   "cell_type": "markdown",
   "metadata": {},
   "source": [
    "Q9: Explain the difference between `discard` and `remove` methods in sets. \n",
    "\n",
    "--> Both methods remove an element from a set, but `remove` raises a `KeyError` if the element is not found, while `discard` does not. For example: "
   ]
  },
  {
   "cell_type": "code",
   "execution_count": 5,
   "metadata": {},
   "outputs": [],
   "source": [
    "my_set = {1, 2, 3} \n",
    "# my_set.remove(4)  # Raises KeyError \n",
    "my_set.discard(4)  # Does nothing "
   ]
  },
  {
   "cell_type": "markdown",
   "metadata": {},
   "source": [
    "Dictionaries \n",
    "\n",
    "Q10: What is a dictionary in Python and how do you create one? \n",
    "\n",
    "--> A dictionary is an unordered collection of key-value pairs. Dictionaries are created using curly braces with a colon separating keys and values. For example, `my_dict = {\"a\": 1, \"b\": 2, \"c\": 3}`. \n",
    "\n",
    "Q11: How can you merge two dictionaries in Python 3.9 and later? \n",
    "\n",
    "--> You can merge two dictionaries using the `|` operator. For example: "
   ]
  },
  {
   "cell_type": "code",
   "execution_count": 6,
   "metadata": {},
   "outputs": [],
   "source": [
    "dict1 = {'a': 1, 'b': 2} \n",
    "dict2 = {'b': 3, 'c': 4} \n",
    "merged_dict = dict1 | dict2  # {'a': 1, 'b': 3, 'c': 4} "
   ]
  },
  {
   "cell_type": "markdown",
   "metadata": {},
   "source": [
    "Q12: What is the difference between `__getitem__` and `get` methods in dictionaries? \n",
    "\n",
    "--> `__getitem__` (accessed using `dict[key]`) raises a `KeyError` if the key is not found, whereas `get` returns a default value (None if not specified) if the key is not found. For example: "
   ]
  },
  {
   "cell_type": "code",
   "execution_count": 8,
   "metadata": {},
   "outputs": [],
   "source": [
    "my_dict = {'a': 1} \n",
    "# value = my_dict['b']  # Raises KeyError \n",
    "value = my_dict.get('b', 'default')  # Returns 'default' "
   ]
  },
  {
   "cell_type": "markdown",
   "metadata": {},
   "source": [
    "Q13: What is a list comprehension in Python and how do you write one? \n",
    "\n",
    "--> A list comprehension is a concise way to create lists. It consists of brackets containing an expression followed by a for clause. For example, `[x * 2 for x in range(10)]` creates a list of the first 10 even numbers. \n",
    "\n",
    "Q14: How would you flatten a nested list using list comprehensions? \n",
    "\n",
    "--> You can flatten a nested list using a nested list comprehension. For example: "
   ]
  },
  {
   "cell_type": "code",
   "execution_count": 10,
   "metadata": {},
   "outputs": [
    {
     "data": {
      "text/plain": [
       "[1, 2, 3, 4, 5, 6, 7, 8, 9]"
      ]
     },
     "execution_count": 10,
     "metadata": {},
     "output_type": "execute_result"
    }
   ],
   "source": [
    "nested_list = [[1, 2, 3], [4, 5], [6, 7, 8, 9]] \n",
    "flat_list = [item for sublist in nested_list for item in sublist] \n",
    "flat_list"
   ]
  },
  {
   "cell_type": "markdown",
   "metadata": {},
   "source": [
    "Q15: Can you use a list comprehension to create a dictionary? Provide an example. \n",
    "\n",
    "--> Yes, you can create a dictionary using a dictionary comprehension. For example: "
   ]
  },
  {
   "cell_type": "code",
   "execution_count": 12,
   "metadata": {},
   "outputs": [
    {
     "data": {
      "text/plain": [
       "{'a': 1, 'b': 2, 'c': 3}"
      ]
     },
     "execution_count": 12,
     "metadata": {},
     "output_type": "execute_result"
    }
   ],
   "source": [
    "keys = ['a', 'b', 'c'] \n",
    "values = [1, 2, 3] \n",
    "my_dict = {k: v for k, v in zip(keys, values)} \n",
    "my_dict"
   ]
  },
  {
   "cell_type": "markdown",
   "metadata": {},
   "source": [
    "Q16: How can you use a list comprehension to filter and transform a list simultaneously? \n",
    "\n",
    "--> You can add a condition to the list comprehension to filter and an expression to transform the items. For example: "
   ]
  },
  {
   "cell_type": "code",
   "execution_count": 14,
   "metadata": {},
   "outputs": [
    {
     "data": {
      "text/plain": [
       "[4, 8]"
      ]
     },
     "execution_count": 14,
     "metadata": {},
     "output_type": "execute_result"
    }
   ],
   "source": [
    "original_list = [1, 2, 3, 4, 5] \n",
    "transformed_list = [x * 2 for x in original_list if x % 2 == 0]  # Doubles even numbers \n",
    "transformed_list"
   ]
  },
  {
   "cell_type": "markdown",
   "metadata": {},
   "source": [
    "Q17: What is a nested list comprehension in Python and how do you write one? \n",
    "\n",
    "--> A nested list comprehension involves two or more for clauses. For example, `[[x * y for y in range(5)] for x in range(5)]` creates a 5x5 multiplication table. \n",
    "\n",
    "Q18: Can you give an example of a nested list comprehension with a condition? \n",
    "\n",
    "--> Yes, `[[x * y for y in range(5) if y % 2 == 0] for x in range(5) if x % 2 == 0]` creates a 3x3 table for even numbers only. "
   ]
  },
  {
   "cell_type": "markdown",
   "metadata": {},
   "source": [
    "### Advanced Scenarios and Questions\n",
    "\n",
    "Q1: How would you reverse a dictionary such that keys become values and values become keys? \n",
    "\n",
    "--> You can reverse a dictionary using a dictionary comprehension. For example: "
   ]
  },
  {
   "cell_type": "code",
   "execution_count": 15,
   "metadata": {},
   "outputs": [
    {
     "data": {
      "text/plain": [
       "{1: 'a', 2: 'b', 3: 'c'}"
      ]
     },
     "execution_count": 15,
     "metadata": {},
     "output_type": "execute_result"
    }
   ],
   "source": [
    "original_dict = {'a': 1, 'b': 2, 'c': 3} \n",
    "reversed_dict = {v: k for k, v in original_dict.items()} \n",
    "reversed_dict"
   ]
  },
  {
   "cell_type": "markdown",
   "metadata": {},
   "source": [
    "Q2: Explain how you would find the intersection of multiple sets. \n",
    "\n",
    "--> You can find the intersection of multiple sets using the `intersection` method. For example: "
   ]
  },
  {
   "cell_type": "code",
   "execution_count": 16,
   "metadata": {},
   "outputs": [
    {
     "data": {
      "text/plain": [
       "{3}"
      ]
     },
     "execution_count": 16,
     "metadata": {},
     "output_type": "execute_result"
    }
   ],
   "source": [
    "set1 = {1, 2, 3} \n",
    "set2 = {2, 3, 4} \n",
    "set3 = {3, 4, 5} \n",
    "common_elements = set1.intersection(set2, set3)  # {3} \n",
    "common_elements"
   ]
  },
  {
   "cell_type": "markdown",
   "metadata": {},
   "source": [
    "Q3: How do you efficiently count the frequency of elements in a list? \n",
    "\n",
    "--> You can count the frequency of elements in a list using the `Counter` class from the `collections` module. For example: "
   ]
  },
  {
   "cell_type": "code",
   "execution_count": 17,
   "metadata": {},
   "outputs": [
    {
     "data": {
      "text/plain": [
       "Counter({3: 3, 2: 2, 1: 1})"
      ]
     },
     "execution_count": 17,
     "metadata": {},
     "output_type": "execute_result"
    }
   ],
   "source": [
    "from collections import Counter \n",
    "my_list = [1, 2, 2, 3, 3, 3] \n",
    "frequency = Counter(my_list)  # Counter({3: 3, 2: 2, 1: 1}) \n",
    "frequency"
   ]
  },
  {
   "cell_type": "markdown",
   "metadata": {},
   "source": [
    "***#MySQL***"
   ]
  },
  {
   "cell_type": "markdown",
   "metadata": {},
   "source": [
    "### Basic Questions on Sorting and Limiting Results \n",
    "\n",
    "ORDER BY \n",
    "\n",
    "Q1: How do you sort query results in ascending order using SQL? \n",
    "\n",
    "--> Use the `ORDER BY` clause followed by the column name. By default, it sorts in ascending order. For example: \n",
    "```sql \n",
    "SELECT * FROM employees ORDER BY salary; \n",
    "``` "
   ]
  },
  {
   "cell_type": "markdown",
   "metadata": {},
   "source": [
    "Q2: How do you sort query results in descending order? \n",
    "\n",
    "--> Use the `ORDER BY` clause followed by the column name and the `DESC` keyword. For example: \n",
    "```sql \n",
    "SELECT * FROM employees ORDER BY salary DESC; \n",
    "``` "
   ]
  },
  {
   "cell_type": "markdown",
   "metadata": {},
   "source": [
    "Q3: Can you sort results by multiple columns? Provide an example. \n",
    "\n",
    "--> Yes, you can sort by multiple columns by listing them in the `ORDER BY` clause, separated by commas. For example: \n",
    "```sql \n",
    "SELECT * FROM employees ORDER BY department, salary DESC; \n",
    "``` "
   ]
  },
  {
   "cell_type": "markdown",
   "metadata": {},
   "source": [
    "LIMIT \n",
    "\n",
    "Q4: How do you limit the number of results returned by a query? \n",
    "\n",
    "--> Use the `LIMIT` clause followed by the number of rows to return. For example: \n",
    "```sql \n",
    "SELECT * FROM employees LIMIT 5; \n",
    "``` \n",
    "\n",
    "Q5: How can you skip a certain number of rows before limiting the results? \n",
    "\n",
    "--> Use the `OFFSET` keyword in conjunction with `LIMIT`. For example: \n",
    "```sql \n",
    "SELECT * FROM employees LIMIT 5 OFFSET 10;  \n",
    "``` \n",
    "\n",
    "Q6: How would you use `LIMIT` and `ORDER BY` together in a query? \n",
    "\n",
    "--> Combine the `ORDER BY` and `LIMIT` clauses to sort and limit the results. For example: \n",
    "```sql \n",
    "SELECT * FROM employees ORDER BY hire_date DESC LIMIT 3; \n",
    "``` "
   ]
  },
  {
   "cell_type": "markdown",
   "metadata": {},
   "source": [
    "### Basic Questions on Joins\n",
    "\n",
    "INNER JOIN \n",
    "\n",
    "Q1: What is an `INNER JOIN` and how do you use it? \n",
    "\n",
    "--> An `INNER JOIN` returns rows that have matching values in both tables. For example: \n",
    "\n",
    "```sql\n",
    "SELECT employees.name, departments.name \n",
    "FROM employees \n",
    "INNER JOIN departments ON employees.department_id = departments.id; \n",
    "``` \n",
    "\n",
    "LEFT JOIN \n",
    "\n",
    "Q2: What is a `LEFT JOIN` and how do you use it? \n",
    "\n",
    "-->  A `LEFT JOIN` returns all rows from the left table, and the matched rows from the right table. \n",
    "Unmatched rows from the right table return NULL. For example: \n",
    "\n",
    "```sql \n",
    "SELECT employees.name, departments.name \n",
    "FROM employees \n",
    "LEFT JOIN departments ON employees.department_id = departments.id; \n",
    "``` \n",
    "\n",
    "RIGHT JOIN \n",
    "\n",
    "Q3: What is a `RIGHT JOIN` and how do you use it? \n",
    "\n",
    "--> A `RIGHT JOIN` returns all rows from the right table, and the matched rows from the left table. Unmatched rows from the left table return NULL. For example: \n",
    "\n",
    "```sql \n",
    "SELECT employees.name, departments.name \n",
    "FROM employees \n",
    "RIGHT JOIN departments ON employees.department_id = departments.id; \n",
    "``` \n",
    "\n",
    "FULL JOIN \n",
    "\n",
    "Q4: What is a `FULL JOIN` and how do you use it? \n",
    "\n",
    "--> A `FULL JOIN` returns all rows when there is a match in either table. Rows without a match \n",
    "return NULL for the columns of the table that lacks the match. For example: \n",
    "\n",
    "```sql \n",
    "SELECT employees.name, departments.name \n",
    "FROM employees \n",
    "FULL JOIN departments ON employees.department_id = departments.id; \n",
    "``` \n",
    "\n",
    "CROSS JOIN \n",
    "\n",
    "Q5: What is a `CROSS JOIN` and how do you use it? \n",
    "\n",
    "--> A `CROSS JOIN` returns the Cartesian product of the two tables, i.e., all possible combinations of rows. For example: \n",
    "\n",
    "```sql \n",
    "SELECT employees.name, departments.name \n",
    "FROM employees \n",
    "CROSS JOIN departments;  \n",
    "``` "
   ]
  },
  {
   "cell_type": "markdown",
   "metadata": {},
   "source": [
    "### Advanced Questions on Sorting and Limiting Results \n",
    "\n",
    "Q1: How can you perform a complex sorting using expressions or functions in the `ORDER BY` clause?\n",
    "\n",
    "--> You can use expressions or functions within the `ORDER BY` clause. For example, sorting by the length of a string: \n",
    "\n",
    "```sql \n",
    "SELECT name FROM employees ORDER BY LENGTH(name); \n",
    "``` \n",
    "\n",
    "Q2: How can you sort the results of a query based on a derived column or an alias? \n",
    "\n",
    "--> You can sort using a derived column or alias defined in the `SELECT` clause. For example: \n",
    "\n",
    "```sql \n",
    "SELECT name, salary * 1.1 AS new_salary FROM employees ORDER BY new_salary DESC; \n",
    "``` \n",
    "\n",
    "Q3: Explain how you would paginate results using `LIMIT` and `OFFSET`. \n",
    "\n",
    "--> Pagination can be achieved by combining `LIMIT` and `OFFSET`. For example, to get the second page of results with 10 rows per page: \n",
    "\n",
    "```sql \n",
    "SELECT * FROM employees ORDER BY name LIMIT 10 OFFSET 10; \n",
    "``` \n",
    "\n",
    "#### Advanced Questions on Joins \n",
    "\n",
    "Q1: How would you handle joins when dealing with tables having the same column names? \n",
    "\n",
    "--> Use table aliases to distinguish columns from different tables. For example: \n",
    "\n",
    "```sql \n",
    "SELECT e.name AS employee_name, d.name AS department_name \n",
    "FROM employees e \n",
    "INNER JOIN departments d ON e.department_id = d.id; \n",
    "``` \n",
    "\n",
    "Q2: Explain the difference between `INNER JOIN` and `OUTER JOIN`. \n",
    "\n",
    "--> `INNER JOIN` returns only the rows with matching values in both tables. `OUTER JOIN` includes `LEFT JOIN`, `RIGHT JOIN`, and `FULL JOIN`, and returns all rows from one or both tables, including rows without matches. \n",
    "\n",
    "Q3: How do you perform a self join and in what scenarios is it useful?\n",
    "\n",
    "--> A self join joins a table with itself. It is useful for hierarchical data or comparing rows within the same table. For example: \n",
    "\n",
    "```sql \n",
    "SELECT e1.name, e2.name AS manager_name \n",
    "FROM employees e1 \n",
    "INNER JOIN employees e2 ON e1.manager_id = e2.id; \n",
    "``` \n",
    "Q4: How can you optimize join queries for better performance? \n",
    "\n",
    "--> Optimize join queries by: \n",
    "- Using indexed columns in join conditions. \n",
    "- Selecting only the necessary columns. \n",
    "- Filtering rows before joining using `WHERE` clauses. \n",
    "- Using appropriate join types based on the use case. \n",
    "\n",
    "Q5: What is a `NATURAL JOIN` and how does it differ from other joins? \n",
    "\n",
    "--> A `NATURAL JOIN` automatically joins tables based on columns with the same names and compatible data types. It differs from explicit joins as it does not require specifying the join condition. For example: \n",
    "```sql \n",
    "SELECT * FROM employees NATURAL JOIN departments; \n",
    "```"
   ]
  },
  {
   "cell_type": "markdown",
   "metadata": {},
   "source": [
    "***#Power BI Data Transformation***\n",
    "\n",
    "Power Query Editor \n",
    "\n",
    "Q1: What is the Power Query Editor in Power BI and what is it used for? \n",
    "\n",
    "--> The Power Query Editor is a tool in Power BI used for connecting to, transforming, and loading data. It allows users to clean, reshape, and combine data from various sources before loading it into Power BI for analysis. \n",
    "\n",
    "Q2: How do you remove duplicates from a dataset in the Power Query Editor?\n",
    "\n",
    "--> To remove duplicates, select the column(s) from which you want to remove duplicates, then go to the Home tab and select Remove Duplicates. \n",
    "\n",
    "Q3: What are the common data transformation operations you can perform using the Power Query Editor? \n",
    "\n",
    "--> Common data transformation operations include filtering rows, removing duplicates, splitting columns, merging columns, changing data types, renaming columns, and pivoting/unpivoting data. \n",
    "\n",
    "Data Cleaning \n",
    "\n",
    "Q4: How do you handle missing values in Power BI using the Power Query Editor? \n",
    "\n",
    "--> You can handle missing values by replacing them with a specific value, removing rows with missing values, or filling them using methods such as forward fill or backward fill. These options are available under the Transform tab in the Power Query Editor. \n",
    "\n",
    "Q5: How can you normalize data in Power BI? \n",
    "\n",
    "--> Normalizing data typically involves transforming the data to a common scale. This can be done using the Power Query Editor by applying mathematical transformations or scaling techniques, such as dividing by a maximum value or applying z-score normalization. \n",
    "\n",
    "Q6: Explain how to split a column into multiple columns in the Power Query Editor. \n",
    "\n",
    "--> To split a column, select the column to be split, then go to the Home tab and choose Split Column. You can split by delimiter, number of characters, or other criteria. \n",
    "\n",
    "Merging Queries \n",
    "\n",
    "Q7: What is the difference between merging and appending queries in Power BI?\n",
    "\n",
    "--> Merging queries combines two queries based on a common column (like SQL JOIN), while appending queries stacks one query on top of another (like UNION in SQL). \n",
    "\n",
    "Q8: How do you merge two queries in Power BI? \n",
    "\n",
    "--> To merge queries, go to the Home tab in the Power Query Editor, select Merge Queries, then choose the tables and columns to merge on. You can specify the type of join (inner, outer, etc.) to use. \n",
    "\n",
    "Q9: What are the types of joins available when merging queries in Power BI?\n",
    "\n",
    "--> The types of joins include Inner Join, Outer Join (Left, Right, Full), and Anti Join (Left Anti, Right Anti). \n",
    "\n",
    "Data Modeling \n",
    "\n",
    "Relationships \n",
    "\n",
    "Q1: What are relationships in Power BI and why are they important?\n",
    "\n",
    "--> Relationships in Power BI link tables together based on common columns, enabling integrated analysis across multiple tables. They are important for creating coherent and accurate reports and visualizations. \n",
    "\n",
    "Q2: How do you create a relationship between two tables in Power BI? \n",
    "\n",
    "--> To create a relationship, go to the Model view, drag a line from a column in one table to a corresponding column in another table, or use the Manage Relationships dialog to define relationships manually. \n",
    "\n",
    "Q3: Explain the difference between a one-to-one and a one-to-many relationship.\n",
    "\n",
    "--> In a one-to-one relationship, each record in one table corresponds to one record in another table. In a one-to-many relationship, one record in a table corresponds to multiple records in another table.\n",
    "\n",
    "Star Schema \n",
    "\n",
    "Q4: What is a star schema in data modeling? \n",
    "\n",
    "--> A star schema is a type of data modeling design that consists of a central fact table connected to multiple dimension tables. It is called a star schema because the diagram resembles a star.  \n",
    "\n",
    "Q5: Why is a star schema preferred in Power BI? \n",
    "\n",
    "--> A star schema is preferred because it simplifies queries, enhances performance, and makes it easier to understand and navigate the data model. \n",
    "\n",
    "Q6: Describe a scenario where you would use a star schema in Power BI. \n",
    "\n",
    "--> A star schema is commonly used in sales and marketing analytics, where a central fact table (sales transactions) is connected to dimension tables like customers, products, time, and regions. \n",
    "\n",
    "Snowflake Schema \n",
    "\n",
    "Q7: What is a snowflake schema and how does it differ from a star schema? \n",
    "\n",
    "--> A snowflake schema is a more complex version of a star schema where dimension tables are normalized into multiple related tables. It reduces data redundancy but can be more complex to navigate and query. \n",
    "\n",
    "Q8: When would you use a snowflake schema in Power BI? \n",
    "\n",
    "--> A snowflake schema is used when normalization is necessary to reduce data redundancy and improve data integrity, such as in complex data environments with multiple hierarchical dimensions.\n",
    "\n",
    "Q9: Explain the impact of using a snowflake schema on performance in Power BI. \n",
    "\n",
    "--> A snowflake schema can impact performance negatively due to the increased number of joins required to retrieve data, which can slow down queries and report loading times. \n",
    "\n",
    "### ADVANCE QUESTION ASKED IN MICROSOFT/AMAZON ETC. \n",
    "Advanced Questions on Data Modeling \n",
    "Relationships \n",
    "1. Q: How can you create and enforce bi-directional relationships in Power BI? \n",
    "   - In Power BI, go to the Model view, select the relationship line between two tables, and in the \n",
    "relationship properties, set the Cross filter direction to Both. This enforces bi-directional filtering, \n",
    "allowing both tables to filter each other. \n",
    " \n",
    "2. Q: What are the potential performance implications of using bi-directional relationships? \n",
    "   - Bi-directional relationships can significantly impact performance because they increase the \n",
    "complexity of data processing and can lead to circular dependencies. They should be used judiciously \n",
    "and only when necessary for accurate analysis. \n",
    " \n",
    "3. Q: How can you handle many-to-many relationships in Power BI? \n",
    "   - To handle many-to-many relationships, use a bridging table (also known as a junction table) that \n",
    "breaks down the many-to-many relationship into two one-to-many relationships. Power BI also \n",
    "supports direct many-to-many relationships, but they should be used carefully to avoid ambiguity \n",
    "and performance issues. \n",
    " \n",
    "#### Star Schema \n",
    " \n",
    "4. Q: Explain how you can optimize a star schema for better performance in Power BI. \n",
    "   - Optimize a star schema by: \n",
    "     - Ensuring dimension tables are properly indexed. \n",
    "     - Reducing the size of fact tables by aggregating data. \n",
    "     - Using surrogate keys for joins instead of natural keys. \n",
    "     - Minimizing the number of columns in fact tables. \n",
    " \n",
    "5. Q: What are the key advantages of using a star schema over a snowflake schema? \n",
    "   - The key advantages of using a star schema include: \n",
    "     - Simplified queries and easier understanding of the data model. \n",
    "     - Improved query performance due to fewer joins. \n",
    "     - Better support for OLAP cubes and data warehousing best practices."
   ]
  },
  {
   "cell_type": "markdown",
   "metadata": {},
   "source": [
    "Snowflake Schema \n",
    "\n",
    "6. Q: How do you convert a snowflake schema into a star schema in Power BI? - To convert a snowflake schema into a star schema, denormalize the data by merging related \n",
    "dimension tables into a single table. This involves flattening the hierarchical structure of the \n",
    "snowflake schema into a simpler, single-layered star schema. \n",
    "7. Q: What are the scenarios where a snowflake schema might be preferred over a star schema? - A snowflake schema might be preferred when:  - Data redundancy needs to be minimized. - Hierarchical relationships between dimension tables need to be explicitly represented. - Data integrity and normalization are more critical than query performance. \n",
    "\n",
    "Advanced Scenario Questions \n",
    "\n",
    "1. Q: How do you handle circular dependencies in Power BI data models? \n",
    "--> Circular dependencies can be resolved by: \n",
    "- Reviewing and simplifying relationships. \n",
    "- Breaking bi-directional relationships. \n",
    "- Using DAX functions to create calculated columns or measures instead of relying on model relationships. \n",
    "\n",
    "2. Q: Describe a scenario where you would use DAX to create a calculated table instead of using \n",
    "Power Query transformations. \n",
    "\n",
    "--> Use DAX to create a calculated table when you need a table based on dynamic data that changes \n",
    "with user interactions or report context. For example, creating a dynamic date table based on the \n",
    "min and max dates in the data model: \n",
    "\n",
    "```sql\n",
    "Dates =  \n",
    "CALENDAR( \n",
    "MIN(Sales[OrderDate]), \n",
    "MAX(Sales[OrderDate]) \n",
    ") \n",
    "``` \n",
    "\n",
    "3. Q: Explain the performance considerations when working with large datasets in Power BI.\n",
    "\n",
    "--> Performance considerations include: \n",
    "- Reducing data volume through filtering and aggregation before loading into Power BI. \n",
    "- Optimizing data models by minimizing the number of columns and relationships. \n",
    "- Using aggregations and incremental refresh to manage large datasets. \n",
    "- Leveraging DirectQuery or composite models for real-time data access.  \n",
    "\n",
    "4. Q: How do you implement row-level security (RLS) in Power BI to restrict data access? \n",
    "--> Implement RLS by creating roles in Power BI Desktop, defining DAX filters for those roles, and then assigning users to the roles in the Power BI Service. For example: \n",
    "```sql \n",
    "[Region] = \"North America\" \n",
    "```"
   ]
  },
  {
   "cell_type": "code",
   "execution_count": null,
   "metadata": {},
   "outputs": [],
   "source": []
  }
 ],
 "metadata": {
  "kernelspec": {
   "display_name": "base",
   "language": "python",
   "name": "python3"
  },
  "language_info": {
   "codemirror_mode": {
    "name": "ipython",
    "version": 3
   },
   "file_extension": ".py",
   "mimetype": "text/x-python",
   "name": "python",
   "nbconvert_exporter": "python",
   "pygments_lexer": "ipython3",
   "version": "3.11.5"
  }
 },
 "nbformat": 4,
 "nbformat_minor": 2
}
